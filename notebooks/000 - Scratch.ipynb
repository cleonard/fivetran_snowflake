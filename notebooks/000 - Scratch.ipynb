{
 "cells": [
  {
   "cell_type": "code",
   "execution_count": 1,
   "id": "8ea2435f-7c21-4cbc-975c-b0369a014a88",
   "metadata": {},
   "outputs": [],
   "source": [
    "# from pathlib import Path\n",
    "\n",
    "# import duckdb\n",
    "\n",
    "# db_file = Path.cwd().parent / \"deploy\" / \"files\" / \"warehouse.db\"\n",
    "# assert db_file.exists()\n",
    "# cnx = duckdb.connect(db_file)\n",
    "# query = (\n",
    "#     \"select published_at, topic, source, title, author, red, blue, clarity, insecurity, \"\n",
    "#     \"apathy, disfunction, regret from tester.article order by published_at desc limit 10;\"\n",
    "# )\n",
    "# result = cnx.sql(query)\n",
    "# result"
   ]
  },
  {
   "cell_type": "code",
   "execution_count": 7,
   "id": "37f0d9ac-8b9f-4374-af17-055a74955920",
   "metadata": {},
   "outputs": [
    {
     "data": {
      "text/plain": [
       "(datetime.datetime(2025, 3, 20, 0, 20, tzinfo=<UTC>),)"
      ]
     },
     "execution_count": 7,
     "metadata": {},
     "output_type": "execute_result"
    }
   ],
   "source": [
    "from pathlib import Path\n",
    "from pprint import pp\n",
    "\n",
    "import snowflake.connector\n",
    "from dotenv import dotenv_values\n",
    "\n",
    "env_file = Path.cwd().parent / \"deploy\" / \".env\"\n",
    "assert env_file.exists()\n",
    "config = dotenv_values(env_file)\n",
    "\n",
    "cnx = snowflake.connector.connect(\n",
    "    user=config[\"SNOWFLAKE_USER\"],\n",
    "    password=config[\"SNOWFLAKE_PASSWORD\"],\n",
    "    account=config[\"SNOWFLAKE_ACCOUNT\"],\n",
    "    warehouse=config[\"SNOWFLAKE_WAREHOUSE\"],\n",
    "    database=config[\"SNOWFLAKE_DATABASE\"],\n",
    "    schema=config[\"SNOWFLAKE_SCHEMA\"]\n",
    ")\n",
    "cursor = cnx.cursor()\n",
    "cnx.cursor().execute(f\"USE WAREHOUSE {config['SNOWFLAKE_WAREHOUSE']}\")\n",
    "cnx.cursor().execute(f\"USE DATABASE {config['SNOWFLAKE_DATABASE']}\")\n",
    "cnx.cursor().execute(f\"USE SCHEMA {config['SNOWFLAKE_SCHEMA']}\")\n",
    "cursor.execute(\"select max(published_at) from article;\");\n",
    "result = cursor.fetchone()\n",
    "result"
   ]
  },
  {
   "cell_type": "code",
   "execution_count": null,
   "id": "96a3f2f9-3f1a-45ca-bcd2-8ace59fcef90",
   "metadata": {},
   "outputs": [],
   "source": []
  },
  {
   "cell_type": "code",
   "execution_count": null,
   "id": "3d570d80-f075-48a5-84e6-b8817d07c388",
   "metadata": {},
   "outputs": [],
   "source": []
  },
  {
   "cell_type": "code",
   "execution_count": null,
   "id": "8e1d8bcc-b63e-4e29-8b3d-da2c506c6221",
   "metadata": {},
   "outputs": [],
   "source": []
  },
  {
   "cell_type": "code",
   "execution_count": null,
   "id": "7c3b9ef3-a84f-481a-b37c-cc4e327feb54",
   "metadata": {},
   "outputs": [],
   "source": []
  },
  {
   "cell_type": "code",
   "execution_count": null,
   "id": "15bc7a8f-0357-4fdb-9477-50237f36898f",
   "metadata": {},
   "outputs": [],
   "source": []
  }
 ],
 "metadata": {
  "kernelspec": {
   "display_name": "Python 3 (ipykernel)",
   "language": "python",
   "name": "python3"
  },
  "language_info": {
   "codemirror_mode": {
    "name": "ipython",
    "version": 3
   },
   "file_extension": ".py",
   "mimetype": "text/x-python",
   "name": "python",
   "nbconvert_exporter": "python",
   "pygments_lexer": "ipython3",
   "version": "3.12.2"
  }
 },
 "nbformat": 4,
 "nbformat_minor": 5
}
