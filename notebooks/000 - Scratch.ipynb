{
 "cells": [
  {
   "cell_type": "code",
   "execution_count": 9,
   "id": "8ea2435f-7c21-4cbc-975c-b0369a014a88",
   "metadata": {},
   "outputs": [
    {
     "data": {
      "text/plain": [
       "┌─────────────────────────┬──────────────────────┬────────────────────────────────────────────────────────────────────────────────────────────────────────────────────────────────────┬──────────────────────────────────┬────────────┬────────────┬────────────┬─────────────┬─────────────┬─────────────┬─────────────┐\n",
       "│          topic          │        source        │                                                               title                                                                │              author              │    red     │    blue    │  clarity   │ insecurity  │   apathy    │ disfunction │   regret    │\n",
       "│         varchar         │       varchar        │                                                              varchar                                                               │             varchar              │   float    │   float    │   float    │    float    │    float    │    float    │    float    │\n",
       "├─────────────────────────┼──────────────────────┼────────────────────────────────────────────────────────────────────────────────────────────────────────────────────────────────────┼──────────────────────────────────┼────────────┼────────────┼────────────┼─────────────┼─────────────┼─────────────┼─────────────┤\n",
       "│ Department of Education │ The Daily Caller     │ Biden’s Education Department Spent Over $100,000,000 On DEI, Antiracist Social Workers For K-12 Schools                            │ Jaryn Crouson                    │  0.3061673 │ 0.37044573 │   0.898991 │  0.14277034 │ 0.099984385 │  0.10706872 │ 0.082183495 │\n",
       "│ Department of Education │ Fox News             │ Riley Gaines, former Lia Thomas opponent, praises Trump admin for pausing federal funds to UPenn                                   │ Paulina Dedaj                    │ 0.18625408 │ 0.20618872 │ 0.98006535 │  0.04193752 │ 0.037128165 │ 0.029016403 │ 0.037352607 │\n",
       "│ Department of Education │ Princeton University │ Living in a city. Population resilience and adaptation in pre-industrial urban settings (300 BC - AD 1500) ∙ Art 401 guest lecture │ Princeton University             │  0.2405994 │ 0.37939465 │  0.8612048 │  0.13986665 │  0.08921563 │  0.05575417 │ 0.078260005 │\n",
       "│ DOGE                    │ Thegatewaypundit.com │ Tampon Tim Walz Publicly Roots Against U.S. Manufacturing — Says Tesla’s Falling Stock Price Raises His Spirits (VIDEO)            │ Ben Kew                          │ 0.25415596 │ 0.25606167 │  0.9511542 │    0.069315 │  0.06198347 │ 0.061058138 │  0.05506241 │\n",
       "│ DOGE                    │ Financial Post       │ Hedge Funds Burned by Tesla Short Bets Plot Next Steps                                                                             │ Bloomberg News                   │ 0.23627377 │ 0.19546784 │ 0.95436954 │ 0.040551513 │ 0.050767504 │  0.04813698 │  0.03908713 │\n",
       "│ DOGE                    │ The Daily Caller     │ Karoline Leavitt Slams Tim Walz’s ‘Sad Existence’ After He Admitted To Rooting Against American Car Company                        │ Nicole Silverio                  │ 0.48841333 │  0.3848419 │  0.8964286 │  0.14923307 │   0.1767952 │  0.21474022 │   0.1786957 │\n",
       "│ DOGE                    │ The Times of India   │ Elon Musk pushes entitlement fraud claims, calls for social security crackdown                                                     │ The Feed                         │  0.2257397 │ 0.19175594 │ 0.94683576 │ 0.037633587 │  0.04615361 │  0.04106326 │  0.04114844 │\n",
       "│ DOGE                    │ CNN                  │ Amtrak CEO steps down                                                                                                              │ Ramishah Maruf, Alexandra Skores │  0.2211664 │ 0.31027165 │ 0.90543944 │ 0.093501545 │  0.07139284 │  0.04281618 │  0.06324077 │\n",
       "│ DOGE                    │ PCMag.com            │ Musk May Use Starlink Profits to Target Moderate Republicans, Senator Warns                                                        │ Michael Kan                      │  0.3521228 │ 0.39173645 │  0.9382663 │  0.15351821 │  0.13600956 │ 0.111976445 │  0.12938786 │\n",
       "│ Department of Education │ Fox News             │ Trump admin responds to Maine's reluctance to ban trans athletes from girls' sports                                                │ Jackson Thompson                 │ 0.36658084 │ 0.28371868 │  0.8702013 │ 0.086511776 │  0.11918996 │  0.11397929 │  0.08634318 │\n",
       "├─────────────────────────┴──────────────────────┴────────────────────────────────────────────────────────────────────────────────────────────────────────────────────────────────────┴──────────────────────────────────┴────────────┴────────────┴────────────┴─────────────┴─────────────┴─────────────┴─────────────┤\n",
       "│ 10 rows                                                                                                                                                                                                                                                                                                    11 columns │\n",
       "└───────────────────────────────────────────────────────────────────────────────────────────────────────────────────────────────────────────────────────────────────────────────────────────────────────────────────────────────────────────────────────────────────────────────────────────────────────────────────────┘"
      ]
     },
     "execution_count": 9,
     "metadata": {},
     "output_type": "execute_result"
    }
   ],
   "source": [
    "from pathlib import Path\n",
    "\n",
    "import duckdb\n",
    "\n",
    "db_file = Path.cwd().parent / \"deploy\" / \"files\" / \"warehouse.db\"\n",
    "assert db_file.exists()\n",
    "cnx = duckdb.connect(db_file)\n",
    "query = (\n",
    "    \"select topic, source, title, author, red, blue, clarity, insecurity, \"\n",
    "    \"apathy, disfunction, regret from tester.article order by published_at limit 10;\"\n",
    ")\n",
    "result = cnx.sql(query)\n",
    "result"
   ]
  },
  {
   "cell_type": "code",
   "execution_count": null,
   "id": "37f0d9ac-8b9f-4374-af17-055a74955920",
   "metadata": {},
   "outputs": [],
   "source": []
  },
  {
   "cell_type": "code",
   "execution_count": null,
   "id": "96a3f2f9-3f1a-45ca-bcd2-8ace59fcef90",
   "metadata": {},
   "outputs": [],
   "source": []
  },
  {
   "cell_type": "code",
   "execution_count": null,
   "id": "3d570d80-f075-48a5-84e6-b8817d07c388",
   "metadata": {},
   "outputs": [],
   "source": []
  },
  {
   "cell_type": "code",
   "execution_count": null,
   "id": "8e1d8bcc-b63e-4e29-8b3d-da2c506c6221",
   "metadata": {},
   "outputs": [],
   "source": []
  },
  {
   "cell_type": "code",
   "execution_count": null,
   "id": "7c3b9ef3-a84f-481a-b37c-cc4e327feb54",
   "metadata": {},
   "outputs": [],
   "source": []
  },
  {
   "cell_type": "code",
   "execution_count": null,
   "id": "15bc7a8f-0357-4fdb-9477-50237f36898f",
   "metadata": {},
   "outputs": [],
   "source": []
  }
 ],
 "metadata": {
  "kernelspec": {
   "display_name": "Python 3 (ipykernel)",
   "language": "python",
   "name": "python3"
  },
  "language_info": {
   "codemirror_mode": {
    "name": "ipython",
    "version": 3
   },
   "file_extension": ".py",
   "mimetype": "text/x-python",
   "name": "python",
   "nbconvert_exporter": "python",
   "pygments_lexer": "ipython3",
   "version": "3.12.2"
  }
 },
 "nbformat": 4,
 "nbformat_minor": 5
}
